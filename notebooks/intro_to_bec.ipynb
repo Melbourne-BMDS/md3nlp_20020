{
 "cells": [
  {
   "cell_type": "markdown",
   "metadata": {
    "slideshow": {
     "slide_type": "slide"
    }
   },
   "source": [
    "# Introducing Myself\n",
    "## Brian Chapman\n",
    "### This is me\n",
    "![This is me](./media/PlaidSmall.jpg)\n",
    "#### Many years ago"
   ]
  },
  {
   "cell_type": "markdown",
   "metadata": {
    "slideshow": {
     "slide_type": "slide"
    }
   },
   "source": [
    "### This is also me\n",
    "\n",
    "<img src=\"media/ct6.jpg\" alt=\"CT scan for trigeminal neuralgia\" width=\"37%\">\n",
    "\n",
    "#### About twelve years ago"
   ]
  },
  {
   "cell_type": "markdown",
   "metadata": {
    "slideshow": {
     "slide_type": "slide"
    }
   },
   "source": [
    "## In case you can't tell..."
   ]
  },
  {
   "cell_type": "markdown",
   "metadata": {
    "slideshow": {
     "slide_type": "slide"
    }
   },
   "source": [
    "#### ...I'm from the United States\n",
    "\n",
    "![USA homes](media/usa_homes.png)\n"
   ]
  },
  {
   "cell_type": "markdown",
   "metadata": {
    "slideshow": {
     "slide_type": "slide"
    }
   },
   "source": [
    "### What did I do for fun\n",
    "#### Before moving ot Australia?\n",
    "\n",
    "![Eddie's High Nowhere](media/eddies_high_nowhere.png)"
   ]
  },
  {
   "cell_type": "markdown",
   "metadata": {
    "slideshow": {
     "slide_type": "slide"
    }
   },
   "source": [
    "## Why Did I Get Involved in Medical Informatics?\n",
    "\n",
    "<img src=\"media/skinnySmall.jpg\" alt=\"me during chemotherapy\" width=\"33%\">\n",
    "\n",
    "#### Me during the summer of 1976"
   ]
  },
  {
   "cell_type": "markdown",
   "metadata": {
    "slideshow": {
     "slide_type": "slide"
    }
   },
   "source": [
    "## What is Medical Informatics?\n",
    "\n",
    ">Informatics is the science of information. It studies the representation, processing, and communication of information in natural and artificial systems. Since computers, individuals and organizations all process information, informatics has computational, cognitive and social aspects.\n",
    ">\n",
    ">Used as a compound, in conjunction with the name of a discipline, as in medical informatics, bio-informatics, etc., it denotes the specialization of informatics to the management and processing of data, information and knowledge in the named discipline. (Michael Fourman, \"Informatics Research Report EDI-INF-RR-0139\")"
   ]
  },
  {
   "cell_type": "markdown",
   "metadata": {
    "slideshow": {
     "slide_type": "slide"
    }
   },
   "source": [
    "### It is not ...\n",
    "\n",
    "- Information technology\n",
    "- Digital technology\n",
    "\n",
    "### Medical Informatics seeks to create  optimal use of data, information, and knowledge to create safer, more efficacious, more patient centered healthcare"
   ]
  },
  {
   "cell_type": "markdown",
   "metadata": {
    "slideshow": {
     "slide_type": "slide"
    }
   },
   "source": [
    "![Learning Health System](https://medicine.umich.edu/sites/default/files/New%20Loop.png)\n",
    "\n",
    "#### The University of Michigan Medical School Department of Learning Health Sciences"
   ]
  },
  {
   "cell_type": "markdown",
   "metadata": {
    "slideshow": {
     "slide_type": "slide"
    }
   },
   "source": [
    "## The Curse of Language\n",
    "\n",
    ">“[A] poor and unskilful code of words incredibly obstructs the understanding. The definitions and explanations with which learned men have been accustomed to protect and in some way liberate themselves do not restore the situation at all. Plainly words do violence to the understanding, and confuse everything; and betray men into countless empty disputes and fictions.” (Francis Bacon, Idol of the Marketplace)\n"
   ]
  },
  {
   "cell_type": "markdown",
   "metadata": {
    "slideshow": {
     "slide_type": "slide"
    }
   },
   "source": [
    "### An (Abbreviated) Standards-Based Medical History\n",
    "\n",
    "- 1976\n",
    "    - [http://purl.bioontology.org/ontology/SNOMEDCT/1082331000119102](\t\n",
    "http://purl.bioontology.org/ontology/SNOMEDCT/1082331000119102)\n",
    "        - [http://purl.bioontology.org/ontology/SNOMEDCT/90688005](http://purl.bioontology.org/ontology/SNOMEDCT/90688005)\n",
    "- 1983-1985\n",
    "    - [http://purl.bioontology.org/ontology/SNOMEDCT/192681000119104](http://purl.bioontology.org/ontology/SNOMEDCT/192681000119104)\n",
    "    - [http://purl.bioontology.org/ontology/SNOMEDCT/52890006](http://purl.bioontology.org/ontology/SNOMEDCT/52890006)\n",
    "    - [3X http://purl.bioontology.org/ontology/SNOMEDCT/722844007](http://purl.bioontology.org/ontology/SNOMEDCT/722844007)\n",
    "        - [http://purl.bioontology.org/ontology/SNOMEDCT/235849009](http://purl.bioontology.org/ontology/SNOMEDCT/235849009)\n",
    "- 2005\n",
    "    - [http://purl.bioontology.org/ontology/SNOMEDCT/93218008](http://purl.bioontology.org/ontology/SNOMEDCT/93218008)\n",
    "- 2016\n",
    "    - [http://purl.bioontology.org/ontology/SNOMEDCT/449636007](http://purl.bioontology.org/ontology/SNOMEDCT/449636007)"
   ]
  },
  {
   "cell_type": "markdown",
   "metadata": {
    "slideshow": {
     "slide_type": "slide"
    }
   },
   "source": [
    "### [How Do We Make Language Computable?](nlp-01-intro_spacy.ipynb)"
   ]
  },
  {
   "cell_type": "code",
   "execution_count": null,
   "metadata": {},
   "outputs": [],
   "source": []
  }
 ],
 "metadata": {
  "celltoolbar": "Slideshow",
  "kernelspec": {
   "display_name": "Python 3",
   "language": "python",
   "name": "python3"
  },
  "language_info": {
   "codemirror_mode": {
    "name": "ipython",
    "version": 3
   },
   "file_extension": ".py",
   "mimetype": "text/x-python",
   "name": "python",
   "nbconvert_exporter": "python",
   "pygments_lexer": "ipython3",
   "version": "3.7.3"
  }
 },
 "nbformat": 4,
 "nbformat_minor": 4
}
